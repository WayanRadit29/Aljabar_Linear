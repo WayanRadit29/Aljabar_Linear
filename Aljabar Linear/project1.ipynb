{
 "cells": [
  {
   "cell_type": "markdown",
   "metadata": {},
   "source": [
    "# Penerapan Aljabar Linear dalam Python\n",
    "\n",
    "Referensi latihan dan belajar di web w3schools (Numpy tutorial)"
   ]
  },
  {
   "cell_type": "code",
   "execution_count": 13,
   "metadata": {},
   "outputs": [
    {
     "name": "stdout",
     "output_type": "stream",
     "text": [
      "[[1 7]\n",
      " [2 3]\n",
      " [5 0]]\n",
      "[[2 6 3 1]\n",
      " [1 2 3 4]]\n",
      "[[ 9 20 24 29]\n",
      " [ 7 18 15 14]\n",
      " [10 30 15  5]]\n"
     ]
    },
    {
     "data": {
      "text/plain": [
       "array([[ 9, 20, 24, 29],\n",
       "       [ 7, 18, 15, 14],\n",
       "       [10, 30, 15,  5]])"
      ]
     },
     "execution_count": 13,
     "metadata": {},
     "output_type": "execute_result"
    }
   ],
   "source": [
    "import numpy as np #Numpy = numerical python\n",
    "\n",
    "P = np.array([[1, 7], [2, 3], [5, 0]])\n",
    "Q = np.array([[2, 6, 3, 1], [1, 2, 3, 4]])\n",
    "print(P)\n",
    "print(Q)\n",
    "print(np.dot(P, Q))\n",
    "np.dot(P, Q)\n"
   ]
  },
  {
   "cell_type": "code",
   "execution_count": 6,
   "metadata": {},
   "outputs": [
    {
     "name": "stdout",
     "output_type": "stream",
     "text": [
      "[[-8 -1  4]]\n"
     ]
    }
   ],
   "source": [
    "v = np.array([[0, 3, 2]])\n",
    "w = np.array([[4, 1, 1]])\n",
    "u = np.array([[0, -2, 0]])\n",
    "x = 3*v-2*w+4*u\n",
    "print(x)"
   ]
  },
  {
   "cell_type": "code",
   "execution_count": 11,
   "metadata": {},
   "outputs": [
    {
     "name": "stdout",
     "output_type": "stream",
     "text": [
      "[[ 2 -1]\n",
      " [ 3  4]]\n",
      "[[ 3 -9  2]\n",
      " [ 5  7 -6]]\n",
      "[[  1 -25  10]\n",
      " [ 29   1 -18]]\n"
     ]
    }
   ],
   "source": [
    "a = np.array([[2, -1], \n",
    "              [3, 4 ],\n",
    "              ])\n",
    "b = np.array([[3, -9, 2],\n",
    "              [5, 7 , -6]\n",
    "              ])\n",
    "\n",
    "#Saat di print tanda koma hilang karena dianggap sebagai matrix\n",
    "print(a)\n",
    "print(b)\n",
    "print(np.dot(a, b)) \n",
    "\n"
   ]
  },
  {
   "cell_type": "code",
   "execution_count": 21,
   "metadata": {},
   "outputs": [
    {
     "name": "stdout",
     "output_type": "stream",
     "text": [
      "[[3 4 5]\n",
      " [2 2 3]]\n"
     ]
    }
   ],
   "source": [
    "#Slicing dalam matrix \n",
    "\n",
    "b = np.array([[3, -9, 2],\n",
    "              [5, 7, -6],\n",
    "              [3, 4, 5],\n",
    "              [2, 3, 4],\n",
    "              [2, 2, 3]\n",
    "              ])\n",
    "\n",
    "print(b[1:][1::2])"
   ]
  }
 ],
 "metadata": {
  "kernelspec": {
   "display_name": "Python 3",
   "language": "python",
   "name": "python3"
  },
  "language_info": {
   "codemirror_mode": {
    "name": "ipython",
    "version": 3
   },
   "file_extension": ".py",
   "mimetype": "text/x-python",
   "name": "python",
   "nbconvert_exporter": "python",
   "pygments_lexer": "ipython3",
   "version": "3.12.1"
  }
 },
 "nbformat": 4,
 "nbformat_minor": 2
}
